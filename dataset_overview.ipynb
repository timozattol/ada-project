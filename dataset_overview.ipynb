{
 "cells": [
  {
   "cell_type": "code",
   "execution_count": null,
   "metadata": {
    "collapsed": true
   },
   "outputs": [],
   "source": [
    "import pandas as pd\n",
    "import numpy as np\n",
    "%matplotlib inline"
   ]
  },
  {
   "cell_type": "code",
   "execution_count": null,
   "metadata": {
    "collapsed": false
   },
   "outputs": [],
   "source": [
    "with open(\"datasets/september/harvest3r_twitter_data_01-09_0.json\") as file:\n",
    "    json = pd.read_json(file)"
   ]
  },
  {
   "cell_type": "code",
   "execution_count": null,
   "metadata": {
    "collapsed": false
   },
   "outputs": [],
   "source": [
    "json[\"_source\"][1001]"
   ]
  },
  {
   "cell_type": "code",
   "execution_count": null,
   "metadata": {
    "collapsed": false
   },
   "outputs": [],
   "source": [
    "state_sentiment = []\n",
    "\n",
    "for dictionary in json[\"_source\"]:\n",
    "    if \"geo_state\" in dictionary and \"sentiment\" in dictionary:\n",
    "        state_sentiment.append([dictionary[\"geo_state\"], dictionary[\"sentiment\"]])"
   ]
  },
  {
   "cell_type": "code",
   "execution_count": null,
   "metadata": {
    "collapsed": false
   },
   "outputs": [],
   "source": [
    "len(state_sentiment) / len(json[\"_source\"])"
   ]
  },
  {
   "cell_type": "code",
   "execution_count": null,
   "metadata": {
    "collapsed": false
   },
   "outputs": [],
   "source": [
    "state_sentiment_df = pd.DataFrame(state_sentiment, columns=[\"state\", \"sentiment\"])"
   ]
  },
  {
   "cell_type": "code",
   "execution_count": null,
   "metadata": {
    "collapsed": false
   },
   "outputs": [],
   "source": [
    "state_sentiment_df.groupby(\"sentiment\").count()"
   ]
  },
  {
   "cell_type": "code",
   "execution_count": null,
   "metadata": {
    "collapsed": false
   },
   "outputs": [],
   "source": [
    "state_sentiment_df[\"sentiment\"][0:10]"
   ]
  },
  {
   "cell_type": "code",
   "execution_count": null,
   "metadata": {
    "collapsed": false
   },
   "outputs": [],
   "source": [
    "def sentiment_to_int(sentiment):\n",
    "    if sentiment == \"NEUTRAL\":\n",
    "        return 0\n",
    "    elif sentiment == \"POSITIVE\":\n",
    "        return 1\n",
    "    elif sentiment == \"NEGATIVE\":\n",
    "        return -1\n",
    "    else:\n",
    "        raise ValueError\n",
    "\n",
    "state_sentiment_df[\"sentiment_int\"] = state_sentiment_df[\"sentiment\"].apply(sentiment_to_int)"
   ]
  },
  {
   "cell_type": "code",
   "execution_count": null,
   "metadata": {
    "collapsed": false
   },
   "outputs": [],
   "source": [
    "state_sentiment_df = state_sentiment_df.groupby(\"state\").filter(lambda x: x.count()[0] > 10)"
   ]
  },
  {
   "cell_type": "code",
   "execution_count": null,
   "metadata": {
    "collapsed": false
   },
   "outputs": [],
   "source": [
    "state_sentiment_df.groupby(\"state\").mean().sort_values(by=\"sentiment_int\").plot(kind=\"bar\")"
   ]
  },
  {
   "cell_type": "code",
   "execution_count": null,
   "metadata": {
    "collapsed": true
   },
   "outputs": [],
   "source": [
    "fields = [\"geo_state\", \"main\", \"sentiment\",  \"author_gender\", \"geo_country\", \"geo_location\", \"published\", ]\n",
    "required_fields = [\"geo_state\", \"sentiment\"]\n",
    "\n",
    "def json_to_df(path):\n",
    "    with open(path) as file:\n",
    "        json = pd.read_json(file)[\"_source\"]\n",
    "        \n",
    "    filtered_json = []\n",
    "\n",
    "    # Keep only relevant fields\n",
    "    for j in json:\n",
    "        filtered_json.append({field: j.get(field, None) for field in fields})\n",
    "        \n",
    "    # Filter out tweets witout state or sentiment\n",
    "    dataframe = pd.DataFrame(filtered_json)\n",
    "    \n",
    "    dataframe.dropna(subset=required_fields, inplace=True)\n",
    "    \n",
    "    dataframe[\"sentiment_int\"] = dataframe[\"sentiment\"].apply(sentiment_to_int)\n",
    "    \n",
    "    return dataframe"
   ]
  },
  {
   "cell_type": "code",
   "execution_count": null,
   "metadata": {
    "collapsed": false
   },
   "outputs": [],
   "source": [
    "thursday_df = json_to_df(\"datasets/september/harvest3r_twitter_data_01-09_0.json\")\n",
    "friday_df = json_to_df(\"datasets/september/harvest3r_twitter_data_02-09_0.json\")"
   ]
  },
  {
   "cell_type": "code",
   "execution_count": null,
   "metadata": {
    "collapsed": false
   },
   "outputs": [],
   "source": [
    "len(thursday_df)"
   ]
  },
  {
   "cell_type": "code",
   "execution_count": null,
   "metadata": {
    "collapsed": false
   },
   "outputs": [],
   "source": [
    "len(friday_df)"
   ]
  },
  {
   "cell_type": "code",
   "execution_count": null,
   "metadata": {
    "collapsed": false
   },
   "outputs": [],
   "source": [
    "thur = thursday_df.groupby(\"geo_state\").mean()\n",
    "fri = friday_df.groupby(\"geo_state\").mean()"
   ]
  },
  {
   "cell_type": "code",
   "execution_count": null,
   "metadata": {
    "collapsed": false
   },
   "outputs": [],
   "source": [
    "df2 = pd.DataFrame()\n",
    "df2[\"thursday\"] = thur[\"sentiment_int\"]\n",
    "df2[\"friday\"] = fri[\"sentiment_int\"]"
   ]
  },
  {
   "cell_type": "code",
   "execution_count": null,
   "metadata": {
    "collapsed": false
   },
   "outputs": [],
   "source": [
    "# Are people happier on Friday than on Thursay? :)\n",
    "df2"
   ]
  },
  {
   "cell_type": "code",
   "execution_count": null,
   "metadata": {
    "collapsed": false
   },
   "outputs": [],
   "source": [
    "thursday_df.groupby(\"author_gender\").count()"
   ]
  },
  {
   "cell_type": "code",
   "execution_count": null,
   "metadata": {
    "collapsed": false
   },
   "outputs": [],
   "source": []
  }
 ],
 "metadata": {
  "anaconda-cloud": {},
  "kernelspec": {
   "display_name": "Python [conda root]",
   "language": "python",
   "name": "conda-root-py"
  },
  "language_info": {
   "codemirror_mode": {
    "name": "ipython",
    "version": 3
   },
   "file_extension": ".py",
   "mimetype": "text/x-python",
   "name": "python",
   "nbconvert_exporter": "python",
   "pygments_lexer": "ipython3",
   "version": "3.5.2"
  }
 },
 "nbformat": 4,
 "nbformat_minor": 1
}
