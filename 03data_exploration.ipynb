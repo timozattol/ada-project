{
 "cells": [
  {
   "cell_type": "code",
   "execution_count": null,
   "metadata": {
    "collapsed": true
   },
   "outputs": [],
   "source": [
    "import pandas as pd\n",
    "import pickle\n",
    "from wordcloud import WordCloud\n",
    "import matplotlib.pyplot as plt\n",
    "from nltk import word_tokenize\n",
    "from nltk.corpus import stopwords\n",
    "%matplotlib inline"
   ]
  },
  {
   "cell_type": "code",
   "execution_count": null,
   "metadata": {
    "collapsed": true
   },
   "outputs": [],
   "source": [
    "main_df = pd.DataFrame()"
   ]
  },
  {
   "cell_type": "code",
   "execution_count": null,
   "metadata": {
    "collapsed": false
   },
   "outputs": [],
   "source": [
    "available_paths = [\"twitter_august.pkl\",  \"twitter_july.pkl\",  \"twitter_october.pkl\",  \"twitter_september.pkl\"]\n",
    "available_paths_complete = [\"datasets/filtered_dfs/{}\".format(path) for path in available_paths]"
   ]
  },
  {
   "cell_type": "code",
   "execution_count": null,
   "metadata": {
    "collapsed": false
   },
   "outputs": [],
   "source": [
    "for path in available_paths_complete:\n",
    "    with open(path, \"rb\") as handle:\n",
    "        new_df = pickle.load(handle)\n",
    "        main_df = main_df.append(new_df)"
   ]
  },
  {
   "cell_type": "code",
   "execution_count": null,
   "metadata": {
    "collapsed": false
   },
   "outputs": [],
   "source": [
    "len(main_df)"
   ]
  },
  {
   "cell_type": "code",
   "execution_count": null,
   "metadata": {
    "collapsed": false
   },
   "outputs": [],
   "source": [
    "main_df.isnull().sum()"
   ]
  },
  {
   "cell_type": "code",
   "execution_count": null,
   "metadata": {
    "collapsed": false,
    "scrolled": true
   },
   "outputs": [],
   "source": [
    "print(len(main_df[main_df[\"sentiment\"] == \"POSITIVE\"]))\n",
    "print(len(main_df[main_df[\"sentiment\"] == \"NEGATIVE\"]))\n",
    "print(len(main_df[main_df[\"sentiment\"] == \"NEUTRAL\"]))"
   ]
  },
  {
   "cell_type": "code",
   "execution_count": null,
   "metadata": {
    "collapsed": false
   },
   "outputs": [],
   "source": [
    "positive_corpus = \" \".join(main_df[main_df[\"sentiment\"] == \"POSITIVE\"][\"main\"])\n",
    "negative_corpus = \" \".join(main_df[main_df[\"sentiment\"] == \"NEGATIVE\"][\"main\"])"
   ]
  },
  {
   "cell_type": "code",
   "execution_count": null,
   "metadata": {
    "collapsed": false
   },
   "outputs": [],
   "source": [
    "wordcloud = WordCloud().generate(positive_corpus)\n",
    "plt.imshow(wordcloud)\n",
    "plt.axis(\"off\")"
   ]
  },
  {
   "cell_type": "code",
   "execution_count": null,
   "metadata": {
    "collapsed": false
   },
   "outputs": [],
   "source": [
    "wordcloud = WordCloud().generate(negative_corpus)\n",
    "plt.imshow(wordcloud)\n",
    "plt.axis(\"off\")"
   ]
  },
  {
   "cell_type": "code",
   "execution_count": null,
   "metadata": {
    "collapsed": false
   },
   "outputs": [],
   "source": [
    "main_df.groupby(\"geo_state\").count()[\"main\"]"
   ]
  },
  {
   "cell_type": "code",
   "execution_count": null,
   "metadata": {
    "collapsed": false
   },
   "outputs": [],
   "source": [
    "# Removing geo_state with few tweets, because they are not swiss cantons. ~0.4% of the data\n",
    "main_df = main_df.groupby(\"geo_state\").filter(lambda x: x.count()[\"main\"] > 1000)"
   ]
  },
  {
   "cell_type": "code",
   "execution_count": null,
   "metadata": {
    "collapsed": false
   },
   "outputs": [],
   "source": [
    "main_df.groupby(\"geo_state\").count()[\"main\"]"
   ]
  },
  {
   "cell_type": "code",
   "execution_count": null,
   "metadata": {
    "collapsed": true
   },
   "outputs": [],
   "source": [
    "fake_cantons = [\"Baden-Württemberg\", \"Haryana\", \"North Rhine-Westphalia\"]"
   ]
  },
  {
   "cell_type": "code",
   "execution_count": null,
   "metadata": {
    "collapsed": false
   },
   "outputs": [],
   "source": [
    "# Removing fake_cantons\n",
    "main_df = main_df[~(main_df[\"geo_state\"].isin(fake_cantons))]"
   ]
  },
  {
   "cell_type": "code",
   "execution_count": null,
   "metadata": {
    "collapsed": false
   },
   "outputs": [],
   "source": [
    "def merge_clean_df(pickle_list):\n",
    "    '''Import DataFrames from different pickle files, merge them and clean the data'''\n",
    "    # == MERGE ==\n",
    "    main_df = pd.DataFrame()\n",
    "    paths = [\"datasets/filtered_dfs/{}\".format(path) for path in pickle_list]\n",
    "    \n",
    "    for path in available_paths_complete:\n",
    "        with open(path, \"rb\") as handle:\n",
    "            new_df = pickle.load(handle)\n",
    "            main_df = main_df.append(new_df)\n",
    "\n",
    "    # == CLEAN ==\n",
    "    # Remove geo_state with few tweets, because they are not swiss cantons. ~0.4% of the data\n",
    "    main_df = main_df.groupby(\"geo_state\").filter(lambda x: x.count()[\"main\"] > 1000)\n",
    "    fake_cantons = [\"Baden-Württemberg\", \"Haryana\", \"North Rhine-Westphalia\"]\n",
    "    \n",
    "    # Removing fake_cantons\n",
    "    main_df = main_df[~(main_df[\"geo_state\"].isin(fake_cantons))]\n",
    "    \n",
    "    return main_df"
   ]
  },
  {
   "cell_type": "code",
   "execution_count": null,
   "metadata": {
    "collapsed": false
   },
   "outputs": [],
   "source": [
    "main_df.groupby(\"geo_state\").mean().sort_values(by=\"sentiment_int\").plot(kind=\"bar\")"
   ]
  },
  {
   "cell_type": "code",
   "execution_count": null,
   "metadata": {
    "collapsed": true
   },
   "outputs": [],
   "source": [
    "sbb_words = [\"cff\", \"sbb\", \"ffs\"]"
   ]
  },
  {
   "cell_type": "code",
   "execution_count": null,
   "metadata": {
    "collapsed": false
   },
   "outputs": [],
   "source": [
    "def contains_str(string):\n",
    "    return main_df[\"main\"].str.contains(string)"
   ]
  },
  {
   "cell_type": "code",
   "execution_count": null,
   "metadata": {
    "collapsed": false
   },
   "outputs": [],
   "source": [
    "main_df[contains_str(\"cff\") | contains_str(\"sbb\") | contains_str(\"ffs\")].groupby(\"geo_state\").mean().sort_values(by=\"sentiment_int\")"
   ]
  },
  {
   "cell_type": "code",
   "execution_count": null,
   "metadata": {
    "collapsed": true
   },
   "outputs": [],
   "source": []
  }
 ],
 "metadata": {
  "anaconda-cloud": {},
  "kernelspec": {
   "display_name": "Python [conda root]",
   "language": "python",
   "name": "conda-root-py"
  },
  "language_info": {
   "codemirror_mode": {
    "name": "ipython",
    "version": 3
   },
   "file_extension": ".py",
   "mimetype": "text/x-python",
   "name": "python",
   "nbconvert_exporter": "python",
   "pygments_lexer": "ipython3",
   "version": "3.5.2"
  }
 },
 "nbformat": 4,
 "nbformat_minor": 1
}
