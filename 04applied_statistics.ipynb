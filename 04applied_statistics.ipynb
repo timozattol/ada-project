{
 "cells": [
  {
   "cell_type": "code",
   "execution_count": null,
   "metadata": {
    "collapsed": true
   },
   "outputs": [],
   "source": [
    "import pandas as pd\n",
    "import numpy as np\n",
    "import pickle\n",
    "\n",
    "%matplotlib inline"
   ]
  },
  {
   "cell_type": "code",
   "execution_count": null,
   "metadata": {
    "collapsed": false
   },
   "outputs": [],
   "source": [
    "with open(\"datasets/parsed_filtered_df.pkl\", \"rb\") as handle:\n",
    "    main_df = pickle.load(handle)"
   ]
  },
  {
   "cell_type": "code",
   "execution_count": null,
   "metadata": {
    "collapsed": false
   },
   "outputs": [],
   "source": [
    "def search_df(df, search_terms, search_exclusive=False):\n",
    "    # Lowercase search terms\n",
    "    search_terms = [t.lower() for t in search_terms]\n",
    "    \n",
    "    # Create a boolean array to subset the dataframe with search matching terms\n",
    "    if search_exclusive:\n",
    "        search_filter_bool = np.ones(len(df), dtype=bool)\n",
    "        \n",
    "        for term in search_terms:\n",
    "            search_filter_bool = search_filter_bool & df['main'].str.lower().str.contains(term)\n",
    "    else:\n",
    "        search_filter_bool = np.zeros(len(df), dtype=bool)\n",
    "\n",
    "        for term in search_terms:\n",
    "            search_filter_bool = search_filter_bool | df['main'].str.lower().str.contains(term)\n",
    "    \n",
    "    return df[search_filter_bool]"
   ]
  },
  {
   "cell_type": "code",
   "execution_count": null,
   "metadata": {
    "collapsed": false
   },
   "outputs": [],
   "source": [
    "# If we want to see only tweets with an opinion (because the mean takes zeros into account)\n",
    "# Also, makes computations a lot faster\n",
    "main_df_opinion = main_df[main_df[\"sentiment\"] != 0]"
   ]
  },
  {
   "cell_type": "markdown",
   "metadata": {},
   "source": [
    "## Example 1: swiss trains by state"
   ]
  },
  {
   "cell_type": "code",
   "execution_count": null,
   "metadata": {
    "collapsed": false
   },
   "outputs": [],
   "source": [
    "cff_search = search_df(main_df_opinion, [\"cff\", \"sbb\", \"ffs\"])"
   ]
  },
  {
   "cell_type": "code",
   "execution_count": null,
   "metadata": {
    "collapsed": false
   },
   "outputs": [],
   "source": [
    "cff_search.groupby(\"geo_state\").mean().sort_values(by=\"sentiment\").plot(kind=\"bar\")"
   ]
  },
  {
   "cell_type": "code",
   "execution_count": null,
   "metadata": {
    "collapsed": false
   },
   "outputs": [],
   "source": [
    "def filter_lang(df, langs):\n",
    "    return df[df['lang'].isin(langs)]"
   ]
  },
  {
   "cell_type": "code",
   "execution_count": null,
   "metadata": {
    "collapsed": true
   },
   "outputs": [],
   "source": [
    "def keep_relevant_states(df, threshold = 20):\n",
    "    return df.groupby(\"geo_state\").filter(lambda x: x.count()[\"main\"] > threshold)"
   ]
  },
  {
   "cell_type": "markdown",
   "metadata": {},
   "source": [
    "## Example 2: saudi arabia by gender"
   ]
  },
  {
   "cell_type": "code",
   "execution_count": null,
   "metadata": {
    "collapsed": false
   },
   "outputs": [],
   "source": [
    "saudi_search = search_df(main_df_opinion, [\"saudi arabia\"])\n",
    "saudi_search.groupby(\"author_gender\").mean()"
   ]
  },
  {
   "cell_type": "markdown",
   "metadata": {},
   "source": [
    "## Example 3: Hillary vs Trump by state"
   ]
  },
  {
   "cell_type": "code",
   "execution_count": null,
   "metadata": {
    "collapsed": false
   },
   "outputs": [],
   "source": [
    "trump_search = search_df(main_df_opinion, [\"donald\", \"trump\"], search_exclusive=True)\n",
    "trump_search = keep_relevant_states(trump_search)\n",
    "trump_search.groupby(\"geo_state\").mean().sort_values(\"sentiment\").plot(kind=\"bar\")"
   ]
  },
  {
   "cell_type": "code",
   "execution_count": null,
   "metadata": {
    "collapsed": false
   },
   "outputs": [],
   "source": [
    "trump_search[\"sentiment\"].mean()"
   ]
  },
  {
   "cell_type": "code",
   "execution_count": null,
   "metadata": {
    "collapsed": false
   },
   "outputs": [],
   "source": [
    "hillary_search = search_df(main_df_opinion, [\"hillary\", \"clinton\"], search_exclusive=True)\n",
    "hillary_search = keep_relevant_states(hillary_search)\n",
    "hillary_search.groupby(\"geo_state\").mean().sort_values(\"sentiment\").plot(kind=\"bar\")"
   ]
  },
  {
   "cell_type": "code",
   "execution_count": null,
   "metadata": {
    "collapsed": false
   },
   "outputs": [],
   "source": [
    "hillary_search[\"sentiment\"].mean()"
   ]
  },
  {
   "cell_type": "markdown",
   "metadata": {},
   "source": [
    "## Example 4: Marijuana by state"
   ]
  },
  {
   "cell_type": "code",
   "execution_count": null,
   "metadata": {
    "collapsed": false
   },
   "outputs": [],
   "source": [
    "weed_search = search_df(main_df_opinion, [\"marijuana\", \"cannabis\", \"weed\"], search_exclusive=False)\n",
    "weed_search = keep_relevant_states(weed_search)\n",
    "weed_search.groupby(\"geo_state\").mean().sort_values(\"sentiment\").plot(kind=\"bar\")"
   ]
  },
  {
   "cell_type": "markdown",
   "metadata": {},
   "source": [
    "## Example 5: bad example, most tweets are radio tweets"
   ]
  },
  {
   "cell_type": "code",
   "execution_count": null,
   "metadata": {
    "collapsed": false
   },
   "outputs": [],
   "source": [
    "bieber_search = search_df(main_df_opinion, [\"Justin\", \"Bieber\"], search_exclusive=True)\n",
    "bieber_search = keep_relevant_states(bieber_search)\n",
    "bieber_search.groupby(\"geo_state\").mean().sort_values(\"sentiment\").plot(kind=\"bar\")"
   ]
  },
  {
   "cell_type": "code",
   "execution_count": null,
   "metadata": {
    "collapsed": false
   },
   "outputs": [],
   "source": [
    "bieber_search[bieber_search[\"geo_state\"] == \"Aargau\"]"
   ]
  },
  {
   "cell_type": "markdown",
   "metadata": {},
   "source": [
    "## Example 6: Roesti mentions, by state"
   ]
  },
  {
   "cell_type": "code",
   "execution_count": null,
   "metadata": {
    "collapsed": false
   },
   "outputs": [],
   "source": [
    "# Ratio of roesti tweets\n",
    "roesti_search = search_df(main_df, [\"rösti\", \"roesti\", \"röschti\", \"roeschti\"], search_exclusive=False)\n",
    "roesti_tweets = roesti_search.groupby(\"geo_state\")[\"main\"].count()\n",
    "\n",
    "total_tweets = main_df.groupby(\"geo_state\")[\"main\"].count()\n",
    "(roesti_tweets / total_tweets).dropna().sort_values().plot(kind=\"bar\")"
   ]
  },
  {
   "cell_type": "markdown",
   "metadata": {},
   "source": [
    "## Example 7: McDonalds, by state"
   ]
  },
  {
   "cell_type": "code",
   "execution_count": null,
   "metadata": {
    "collapsed": false
   },
   "outputs": [],
   "source": [
    "mcdo_search = search_df(main_df_opinion, [\"mcdo\"], search_exclusive=True)\n",
    "mcdo_search = keep_relevant_states(mcdo_search)\n",
    "mcdo_search.groupby(\"geo_state\").mean().sort_values(\"sentiment\").plot(kind=\"bar\")"
   ]
  },
  {
   "cell_type": "markdown",
   "metadata": {},
   "source": [
    "## Example 8: Are people happier on the week-end?"
   ]
  },
  {
   "cell_type": "code",
   "execution_count": null,
   "metadata": {
    "collapsed": false
   },
   "outputs": [],
   "source": [
    "main_df_opinion[\"weekday\"] = main_df_opinion[\"published\"].apply(lambda x: x.weekday())"
   ]
  },
  {
   "cell_type": "code",
   "execution_count": null,
   "metadata": {
    "collapsed": false
   },
   "outputs": [],
   "source": [
    "main_df_opinion[main_df_opinion[\"geo_state\"] == \"Zurich\"].groupby(\"weekday\").mean()"
   ]
  },
  {
   "cell_type": "markdown",
   "metadata": {},
   "source": [
    "Other ideas:\n",
    "* implication of canton into subject (count(subject) / count(total))"
   ]
  },
  {
   "cell_type": "code",
   "execution_count": null,
   "metadata": {
    "collapsed": false
   },
   "outputs": [],
   "source": []
  }
 ],
 "metadata": {
  "kernelspec": {
   "display_name": "Python [conda root]",
   "language": "python",
   "name": "conda-root-py"
  },
  "language_info": {
   "codemirror_mode": {
    "name": "ipython",
    "version": 3
   },
   "file_extension": ".py",
   "mimetype": "text/x-python",
   "name": "python",
   "nbconvert_exporter": "python",
   "pygments_lexer": "ipython3",
   "version": "3.5.2"
  }
 },
 "nbformat": 4,
 "nbformat_minor": 1
}
