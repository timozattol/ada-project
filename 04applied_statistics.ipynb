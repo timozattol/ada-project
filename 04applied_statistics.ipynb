{
 "cells": [
  {
   "cell_type": "code",
   "execution_count": 4,
   "metadata": {
    "collapsed": true
   },
   "outputs": [],
   "source": [
    "import pandas as pd\n",
    "import numpy as np\n",
    "import pickle\n",
    "\n",
    "%matplotlib inline"
   ]
  },
  {
   "cell_type": "code",
   "execution_count": 5,
   "metadata": {
    "collapsed": false
   },
   "outputs": [],
   "source": [
    "with open(\"datasets/parsed_filtered_df.pkl\", \"rb\") as handle:\n",
    "    main_df = pickle.load(handle)"
   ]
  },
  {
   "cell_type": "code",
   "execution_count": 6,
   "metadata": {
    "collapsed": false
   },
   "outputs": [],
   "source": [
    "def search_df(df, search_terms, search_exclusive=False):\n",
    "    # Lowercase search terms\n",
    "    search_terms = [t.lower() for t in search_terms]\n",
    "    \n",
    "    # Create a boolean array to subset the dataframe with search matching terms\n",
    "    if search_exclusive:\n",
    "        search_filter_bool = np.ones(len(df), dtype=bool)\n",
    "        \n",
    "        for term in search_terms:\n",
    "            search_filter_bool = search_filter_bool & df['main'].str.lower().str.contains(term)\n",
    "    else:\n",
    "        search_filter_bool = np.zeros(len(df), dtype=bool)\n",
    "\n",
    "        for term in search_terms:\n",
    "            search_filter_bool = search_filter_bool | df['main'].str.lower().str.contains(term)\n",
    "    \n",
    "    return df[search_filter_bool]"
   ]
  },
  {
   "cell_type": "code",
   "execution_count": 7,
   "metadata": {
    "collapsed": false
   },
   "outputs": [],
   "source": [
    "# If we want to see only tweets with an opinion (because the mean takes zeros into account)\n",
    "# Also, makes computations a lot faster\n",
    "main_df_opinion = main_df[main_df[\"sentiment\"] != 0]"
   ]
  },
  {
   "cell_type": "markdown",
   "metadata": {},
   "source": [
    "## Example 1: swiss trains by state"
   ]
  },
  {
   "cell_type": "code",
   "execution_count": 8,
   "metadata": {
    "collapsed": false
   },
   "outputs": [],
   "source": [
    "cff_search = search_df(main_df_opinion, [\"cff\", \"sbb\", \"ffs\"])"
   ]
  },
  {
   "cell_type": "code",
   "execution_count": 9,
   "metadata": {
    "collapsed": false
   },
   "outputs": [
    {
     "data": {
      "text/plain": [
       "<matplotlib.axes._subplots.AxesSubplot at 0x1e314dcafd0>"
      ]
     },
     "execution_count": 9,
     "metadata": {},
     "output_type": "execute_result"
    },
    {
     "data": {
      "image/png": "[encoded data removed]",
      "text/plain": [
       "<matplotlib.figure.Figure at 0x1e3afa366a0>"
      ]
     },
     "metadata": {},
     "output_type": "display_data"
    }
   ],
   "source": [
    "cff_search.groupby(\"geo_state\").mean().sort_values(by=\"sentiment\").plot(kind=\"bar\")"
   ]
  },
  {
   "cell_type": "code",
   "execution_count": 10,
   "metadata": {
    "collapsed": false
   },
   "outputs": [],
   "source": [
    "def filter_lang(df, langs):\n",
    "    return df[df['lang'].isin(langs)]"
   ]
  },
  {
   "cell_type": "code",
   "execution_count": 11,
   "metadata": {
    "collapsed": true
   },
   "outputs": [],
   "source": [
    "def keep_relevant_states(df, threshold = 20):\n",
    "    return df.groupby(\"geo_state\").filter(lambda x: x.count()[\"main\"] > threshold)"
   ]
  },
  {
   "cell_type": "markdown",
   "metadata": {},
   "source": [
    "## Example 2: saudi arabia by gender"
   ]
  },
  {
   "cell_type": "code",
   "execution_count": 12,
   "metadata": {
    "collapsed": false
   },
   "outputs": [
    {
     "data": {
      "text/html": [
       "<div>\n",
       "<table border=\"1\" class=\"dataframe\">\n",
       "  <thead>\n",
       "    <tr style=\"text-align: right;\">\n",
       "      <th></th>\n",
       "      <th>sentiment</th>\n",
       "    </tr>\n",
       "    <tr>\n",
       "      <th>author_gender</th>\n",
       "      <th></th>\n",
       "    </tr>\n",
       "  </thead>\n",
       "  <tbody>\n",
       "    <tr>\n",
       "      <th>FEMALE</th>\n",
       "      <td>-0.157895</td>\n",
       "    </tr>\n",
       "    <tr>\n",
       "      <th>MALE</th>\n",
       "      <td>-0.101124</td>\n",
       "    </tr>\n",
       "    <tr>\n",
       "      <th>UNKNOWN</th>\n",
       "      <td>-0.098039</td>\n",
       "    </tr>\n",
       "  </tbody>\n",
       "</table>\n",
       "</div>"
      ],
      "text/plain": [
       "               sentiment\n",
       "author_gender           \n",
       "FEMALE         -0.157895\n",
       "MALE           -0.101124\n",
       "UNKNOWN        -0.098039"
      ]
     },
     "execution_count": 12,
     "metadata": {},
     "output_type": "execute_result"
    }
   ],
   "source": [
    "saudi_search = search_df(main_df_opinion, [\"saudi arabia\"])\n",
    "saudi_search.groupby(\"author_gender\").mean()"
   ]
  },
  {
   "cell_type": "markdown",
   "metadata": {},
   "source": [
    "## Example 3: Hillary vs Trump by state"
   ]
  },
  {
   "cell_type": "code",
   "execution_count": 13,
   "metadata": {
    "collapsed": false
   },
   "outputs": [
    {
     "data": {
      "text/plain": [
       "<matplotlib.axes._subplots.AxesSubplot at 0x1e371565d30>"
      ]
     },
     "execution_count": 13,
     "metadata": {},
     "output_type": "execute_result"
    },
    {
     "data": {
      "image/png": "[encoded data removed]",
      "text/plain": [
       "<matplotlib.figure.Figure at 0x1e3e48ac898>"
      ]
     },
     "metadata": {},
     "output_type": "display_data"
    }
   ],
   "source": [
    "trump_search = search_df(main_df_opinion, [\"donald\", \"trump\"], search_exclusive=True)\n",
    "trump_search = keep_relevant_states(trump_search)\n",
    "trump_search.groupby(\"geo_state\").mean().sort_values(\"sentiment\").plot(kind=\"bar\")"
   ]
  },
  {
   "cell_type": "code",
   "execution_count": 14,
   "metadata": {
    "collapsed": false
   },
   "outputs": [
    {
     "data": {
      "text/plain": [
       "0.3323713323713324"
      ]
     },
     "execution_count": 14,
     "metadata": {},
     "output_type": "execute_result"
    }
   ],
   "source": [
    "trump_search[\"sentiment\"].mean()"
   ]
  },
  {
   "cell_type": "code",
   "execution_count": 15,
   "metadata": {
    "collapsed": false
   },
   "outputs": [
    {
     "data": {
      "text/plain": [
       "<matplotlib.axes._subplots.AxesSubplot at 0x1e3e483a828>"
      ]
     },
     "execution_count": 15,
     "metadata": {},
     "output_type": "execute_result"
    },
    {
     "data": {
      "image/png": "[encoded data removed]",
      "text/plain": [
       "<matplotlib.figure.Figure at 0x1e34d6e0908>"
      ]
     },
     "metadata": {},
     "output_type": "display_data"
    }
   ],
   "source": [
    "hillary_search = search_df(main_df_opinion, [\"hillary\", \"clinton\"], search_exclusive=True)\n",
    "hillary_search = keep_relevant_states(hillary_search)\n",
    "hillary_search.groupby(\"geo_state\").mean().sort_values(\"sentiment\").plot(kind=\"bar\")"
   ]
  },
  {
   "cell_type": "code",
   "execution_count": 16,
   "metadata": {
    "collapsed": false
   },
   "outputs": [
    {
     "data": {
      "text/plain": [
       "0.0853966649823143"
      ]
     },
     "execution_count": 16,
     "metadata": {},
     "output_type": "execute_result"
    }
   ],
   "source": [
    "hillary_search[\"sentiment\"].mean()"
   ]
  },
  {
   "cell_type": "markdown",
   "metadata": {},
   "source": [
    "## Example 4: Marijuana by state"
   ]
  },
  {
   "cell_type": "code",
   "execution_count": 17,
   "metadata": {
    "collapsed": false
   },
   "outputs": [
    {
     "data": {
      "text/plain": [
       "<matplotlib.axes._subplots.AxesSubplot at 0x1e3af4a8518>"
      ]
     },
     "execution_count": 17,
     "metadata": {},
     "output_type": "execute_result"
    },
    {
     "data": {
      "image/png": "[encoded data removed]",
      "text/plain": [
       "<matplotlib.figure.Figure at 0x1e3af4a8e80>"
      ]
     },
     "metadata": {},
     "output_type": "display_data"
    }
   ],
   "source": [
    "weed_search = search_df(main_df_opinion, [\"marijuana\", \"cannabis\", \"weed\"], search_exclusive=False)\n",
    "weed_search = keep_relevant_states(weed_search)\n",
    "weed_search.groupby(\"geo_state\").mean().sort_values(\"sentiment\").plot(kind=\"bar\")"
   ]
  },
  {
   "cell_type": "markdown",
   "metadata": {},
   "source": [
    "## Example 5: bad example, most tweets are radio tweets"
   ]
  },
  {
   "cell_type": "code",
   "execution_count": 18,
   "metadata": {
    "collapsed": false
   },
   "outputs": [
    {
     "data": {
      "text/plain": [
       "<matplotlib.axes._subplots.AxesSubplot at 0x1e3af4905f8>"
      ]
     },
     "execution_count": 18,
     "metadata": {},
     "output_type": "execute_result"
    },
    {
     "data": {
      "image/png": "[encoded data removed]",
      "text/plain": [
       "<matplotlib.figure.Figure at 0x1e35d632f60>"
      ]
     },
     "metadata": {},
     "output_type": "display_data"
    }
   ],
   "source": [
    "bieber_search = search_df(main_df_opinion, [\"Justin\", \"Bieber\"], search_exclusive=True)\n",
    "bieber_search = keep_relevant_states(bieber_search)\n",
    "bieber_search.groupby(\"geo_state\").mean().sort_values(\"sentiment\").plot(kind=\"bar\")"
   ]
  },
  {
   "cell_type": "code",
   "execution_count": 19,
   "metadata": {
    "collapsed": false
   },
   "outputs": [
    {
     "data": {
      "text/html": [
       "<div>\n",
       "<table border=\"1\" class=\"dataframe\">\n",
       "  <thead>\n",
       "    <tr style=\"text-align: right;\">\n",
       "      <th></th>\n",
       "      <th>author_gender</th>\n",
       "      <th>geo_state</th>\n",
       "      <th>lang</th>\n",
       "      <th>main</th>\n",
       "      <th>published</th>\n",
       "      <th>source_location</th>\n",
       "      <th>sentiment</th>\n",
       "    </tr>\n",
       "  </thead>\n",
       "  <tbody>\n",
       "    <tr>\n",
       "      <th>28136</th>\n",
       "      <td>UNKNOWN</td>\n",
       "      <td>Aargau</td>\n",
       "      <td>en</td>\n",
       "      <td>THIS IS CUTW ASFhttps://twitter.com/987ampradi...</td>\n",
       "      <td>2016-08-02 17:09:27</td>\n",
       "      <td>5h, ddl, ag, tk, NYD, 1D, t100</td>\n",
       "      <td>1.0</td>\n",
       "    </tr>\n",
       "    <tr>\n",
       "      <th>109722</th>\n",
       "      <td>UNKNOWN</td>\n",
       "      <td>Aargau</td>\n",
       "      <td>en</td>\n",
       "      <td>Now playing: 'Love Yourself' by 'Justin Bieber'</td>\n",
       "      <td>2016-08-06 07:37:55</td>\n",
       "      <td>Zofingen, Switzerland</td>\n",
       "      <td>1.0</td>\n",
       "    </tr>\n",
       "    <tr>\n",
       "      <th>135322</th>\n",
       "      <td>UNKNOWN</td>\n",
       "      <td>Aargau</td>\n",
       "      <td>en</td>\n",
       "      <td>Now playing: 'Sorry' by 'Justin Bieber'</td>\n",
       "      <td>2016-08-07 21:56:29</td>\n",
       "      <td>Zofingen, Switzerland</td>\n",
       "      <td>-1.0</td>\n",
       "    </tr>\n",
       "    <tr>\n",
       "      <th>221277</th>\n",
       "      <td>UNKNOWN</td>\n",
       "      <td>Aargau</td>\n",
       "      <td>en</td>\n",
       "      <td>Now playing: 'Where Are Ãœ Now' by 'Skrillex &amp;...</td>\n",
       "      <td>2016-08-09 01:36:45</td>\n",
       "      <td>Zofingen, Switzerland</td>\n",
       "      <td>1.0</td>\n",
       "    </tr>\n",
       "    <tr>\n",
       "      <th>296924</th>\n",
       "      <td>MALE</td>\n",
       "      <td>Aargau</td>\n",
       "      <td>en</td>\n",
       "      <td>@AllyBrooke @justinbieber DAMN GIRL THESE VOCALS</td>\n",
       "      <td>2016-08-11 23:01:36</td>\n",
       "      <td>4/6 ; AG ; SG</td>\n",
       "      <td>-1.0</td>\n",
       "    </tr>\n",
       "    <tr>\n",
       "      <th>299840</th>\n",
       "      <td>MALE</td>\n",
       "      <td>Aargau</td>\n",
       "      <td>en</td>\n",
       "      <td>@AllyBrooke @ashleejuno @djsnake @justinbieber...</td>\n",
       "      <td>2016-08-11 23:03:02</td>\n",
       "      <td>4/6 ; AG ; SG</td>\n",
       "      <td>-1.0</td>\n",
       "    </tr>\n",
       "    <tr>\n",
       "      <th>315967</th>\n",
       "      <td>UNKNOWN</td>\n",
       "      <td>Aargau</td>\n",
       "      <td>en</td>\n",
       "      <td>Cold water // @MAJORLAZER @justinbieber @MOMOM...</td>\n",
       "      <td>2016-08-12 04:33:02</td>\n",
       "      <td>somewhere cold</td>\n",
       "      <td>-1.0</td>\n",
       "    </tr>\n",
       "    <tr>\n",
       "      <th>368439</th>\n",
       "      <td>UNKNOWN</td>\n",
       "      <td>Aargau</td>\n",
       "      <td>en</td>\n",
       "      <td>Now playing: 'Where Are Ãœ Now' by 'Skrillex &amp;...</td>\n",
       "      <td>2016-08-13 19:05:20</td>\n",
       "      <td>Zofingen, Switzerland</td>\n",
       "      <td>1.0</td>\n",
       "    </tr>\n",
       "    <tr>\n",
       "      <th>402999</th>\n",
       "      <td>UNKNOWN</td>\n",
       "      <td>Aargau</td>\n",
       "      <td>en</td>\n",
       "      <td>Damonhttps://twitter.com/myboycrush/status/735...</td>\n",
       "      <td>2016-08-14 12:41:05</td>\n",
       "      <td>somewhere cold</td>\n",
       "      <td>1.0</td>\n",
       "    </tr>\n",
       "    <tr>\n",
       "      <th>424609</th>\n",
       "      <td>UNKNOWN</td>\n",
       "      <td>Aargau</td>\n",
       "      <td>en</td>\n",
       "      <td>Now playing: 'Cold Water - HOT SONG' by 'Major...</td>\n",
       "      <td>2016-08-15 10:26:26</td>\n",
       "      <td>Zofingen, Switzerland</td>\n",
       "      <td>1.0</td>\n",
       "    </tr>\n",
       "    <tr>\n",
       "      <th>454872</th>\n",
       "      <td>UNKNOWN</td>\n",
       "      <td>Aargau</td>\n",
       "      <td>en</td>\n",
       "      <td>Now playing: 'Sorry' by 'Justin Bieber'</td>\n",
       "      <td>2016-08-16 02:39:11</td>\n",
       "      <td>Zofingen, Switzerland</td>\n",
       "      <td>-1.0</td>\n",
       "    </tr>\n",
       "    <tr>\n",
       "      <th>462231</th>\n",
       "      <td>UNKNOWN</td>\n",
       "      <td>Aargau</td>\n",
       "      <td>en</td>\n",
       "      <td>Now playing: 'Cold Water - HOT SONG' by 'Major...</td>\n",
       "      <td>2016-08-16 00:02:50</td>\n",
       "      <td>Zofingen, Switzerland</td>\n",
       "      <td>1.0</td>\n",
       "    </tr>\n",
       "    <tr>\n",
       "      <th>474876</th>\n",
       "      <td>UNKNOWN</td>\n",
       "      <td>Aargau</td>\n",
       "      <td>en</td>\n",
       "      <td>Now playing: 'Cold Water - HOT SONG' by 'Major...</td>\n",
       "      <td>2016-08-16 17:42:34</td>\n",
       "      <td>Zofingen, Switzerland</td>\n",
       "      <td>1.0</td>\n",
       "    </tr>\n",
       "    <tr>\n",
       "      <th>504832</th>\n",
       "      <td>UNKNOWN</td>\n",
       "      <td>Aargau</td>\n",
       "      <td>en</td>\n",
       "      <td>@justinbieber I love you my angel, I will alwa...</td>\n",
       "      <td>2016-08-17 02:46:26</td>\n",
       "      <td>JB, AG, SPN, SQ, TWD,James B ღ</td>\n",
       "      <td>1.0</td>\n",
       "    </tr>\n",
       "    <tr>\n",
       "      <th>512412</th>\n",
       "      <td>UNKNOWN</td>\n",
       "      <td>Aargau</td>\n",
       "      <td>en</td>\n",
       "      <td>Now playing: 'Cold Water - HOT SONG' by 'Major...</td>\n",
       "      <td>2016-08-17 20:46:39</td>\n",
       "      <td>Zofingen, Switzerland</td>\n",
       "      <td>1.0</td>\n",
       "    </tr>\n",
       "    <tr>\n",
       "      <th>513806</th>\n",
       "      <td>UNKNOWN</td>\n",
       "      <td>Aargau</td>\n",
       "      <td>en</td>\n",
       "      <td>Now playing: 'Cold Water - HOT SONG' by 'Major...</td>\n",
       "      <td>2016-08-17 07:47:54</td>\n",
       "      <td>Zofingen, Switzerland</td>\n",
       "      <td>1.0</td>\n",
       "    </tr>\n",
       "    <tr>\n",
       "      <th>544047</th>\n",
       "      <td>UNKNOWN</td>\n",
       "      <td>Aargau</td>\n",
       "      <td>en</td>\n",
       "      <td>Now playing: 'Cold Water - HOT SONG' by 'Major...</td>\n",
       "      <td>2016-08-18 10:44:22</td>\n",
       "      <td>Zofingen, Switzerland</td>\n",
       "      <td>1.0</td>\n",
       "    </tr>\n",
       "    <tr>\n",
       "      <th>549691</th>\n",
       "      <td>UNKNOWN</td>\n",
       "      <td>Aargau</td>\n",
       "      <td>en</td>\n",
       "      <td>Now playing: 'Cold Water - HOT SONG' by 'Major...</td>\n",
       "      <td>2016-08-18 22:52:46</td>\n",
       "      <td>Zofingen, Switzerland</td>\n",
       "      <td>1.0</td>\n",
       "    </tr>\n",
       "    <tr>\n",
       "      <th>614938</th>\n",
       "      <td>UNKNOWN</td>\n",
       "      <td>Aargau</td>\n",
       "      <td>en</td>\n",
       "      <td>Now playing: 'Let Me Love You' by 'DJ Snake fe...</td>\n",
       "      <td>2016-08-20 19:03:46</td>\n",
       "      <td>Zofingen, Switzerland</td>\n",
       "      <td>1.0</td>\n",
       "    </tr>\n",
       "    <tr>\n",
       "      <th>621666</th>\n",
       "      <td>UNKNOWN</td>\n",
       "      <td>Aargau</td>\n",
       "      <td>en</td>\n",
       "      <td>Now playing: 'Let Me Love You' by 'DJ Snake fe...</td>\n",
       "      <td>2016-08-20 02:02:04</td>\n",
       "      <td>Zofingen, Switzerland</td>\n",
       "      <td>1.0</td>\n",
       "    </tr>\n",
       "    <tr>\n",
       "      <th>633501</th>\n",
       "      <td>UNKNOWN</td>\n",
       "      <td>Aargau</td>\n",
       "      <td>en</td>\n",
       "      <td>Now playing: 'Cold Water - HOT SONG' by 'Major...</td>\n",
       "      <td>2016-08-20 08:19:44</td>\n",
       "      <td>Zofingen, Switzerland</td>\n",
       "      <td>1.0</td>\n",
       "    </tr>\n",
       "    <tr>\n",
       "      <th>645948</th>\n",
       "      <td>UNKNOWN</td>\n",
       "      <td>Aargau</td>\n",
       "      <td>en</td>\n",
       "      <td>Now playing: 'Cold Water - HOT SONG' by 'Major...</td>\n",
       "      <td>2016-08-21 05:00:18</td>\n",
       "      <td>Zofingen, Switzerland</td>\n",
       "      <td>1.0</td>\n",
       "    </tr>\n",
       "    <tr>\n",
       "      <th>650946</th>\n",
       "      <td>UNKNOWN</td>\n",
       "      <td>Aargau</td>\n",
       "      <td>en</td>\n",
       "      <td>Now playing: 'Cold Water - HOT SONG' by 'Major...</td>\n",
       "      <td>2016-08-21 23:31:03</td>\n",
       "      <td>Zofingen, Switzerland</td>\n",
       "      <td>1.0</td>\n",
       "    </tr>\n",
       "    <tr>\n",
       "      <th>679616</th>\n",
       "      <td>UNKNOWN</td>\n",
       "      <td>Aargau</td>\n",
       "      <td>en</td>\n",
       "      <td>Now playing: 'Let Me Love You' by 'DJ Snake fe...</td>\n",
       "      <td>2016-08-22 14:07:11</td>\n",
       "      <td>Zofingen, Switzerland</td>\n",
       "      <td>1.0</td>\n",
       "    </tr>\n",
       "    <tr>\n",
       "      <th>682141</th>\n",
       "      <td>UNKNOWN</td>\n",
       "      <td>Aargau</td>\n",
       "      <td>en</td>\n",
       "      <td>Now playing: 'Let Me Love You' by 'DJ Snake fe...</td>\n",
       "      <td>2016-08-22 02:01:57</td>\n",
       "      <td>Zofingen, Switzerland</td>\n",
       "      <td>1.0</td>\n",
       "    </tr>\n",
       "    <tr>\n",
       "      <th>730574</th>\n",
       "      <td>UNKNOWN</td>\n",
       "      <td>Aargau</td>\n",
       "      <td>en</td>\n",
       "      <td>Now playing: 'Cold Water - HOT SONG' by 'Major...</td>\n",
       "      <td>2016-08-23 21:33:55</td>\n",
       "      <td>Zofingen, Switzerland</td>\n",
       "      <td>1.0</td>\n",
       "    </tr>\n",
       "    <tr>\n",
       "      <th>733545</th>\n",
       "      <td>UNKNOWN</td>\n",
       "      <td>Aargau</td>\n",
       "      <td>en</td>\n",
       "      <td>Now playing: 'Let Me Love You' by 'DJ Snake fe...</td>\n",
       "      <td>2016-08-23 05:06:44</td>\n",
       "      <td>Zofingen, Switzerland</td>\n",
       "      <td>1.0</td>\n",
       "    </tr>\n",
       "    <tr>\n",
       "      <th>735260</th>\n",
       "      <td>UNKNOWN</td>\n",
       "      <td>Aargau</td>\n",
       "      <td>en</td>\n",
       "      <td>Now playing: 'Let Me Love You' by 'DJ Snake fe...</td>\n",
       "      <td>2016-08-23 17:06:59</td>\n",
       "      <td>Zofingen, Switzerland</td>\n",
       "      <td>1.0</td>\n",
       "    </tr>\n",
       "    <tr>\n",
       "      <th>741986</th>\n",
       "      <td>UNKNOWN</td>\n",
       "      <td>Aargau</td>\n",
       "      <td>en</td>\n",
       "      <td>Now playing: 'Cold Water - HOT SONG' by 'Major...</td>\n",
       "      <td>2016-08-23 07:48:19</td>\n",
       "      <td>Zofingen, Switzerland</td>\n",
       "      <td>1.0</td>\n",
       "    </tr>\n",
       "    <tr>\n",
       "      <th>758392</th>\n",
       "      <td>UNKNOWN</td>\n",
       "      <td>Aargau</td>\n",
       "      <td>en</td>\n",
       "      <td>Now playing: 'Cold Water - HOT SONG' by 'Major...</td>\n",
       "      <td>2016-08-24 23:54:12</td>\n",
       "      <td>Zofingen, Switzerland</td>\n",
       "      <td>1.0</td>\n",
       "    </tr>\n",
       "    <tr>\n",
       "      <th>...</th>\n",
       "      <td>...</td>\n",
       "      <td>...</td>\n",
       "      <td>...</td>\n",
       "      <td>...</td>\n",
       "      <td>...</td>\n",
       "      <td>...</td>\n",
       "      <td>...</td>\n",
       "    </tr>\n",
       "    <tr>\n",
       "      <th>3352617</th>\n",
       "      <td>UNKNOWN</td>\n",
       "      <td>Aargau</td>\n",
       "      <td>en</td>\n",
       "      <td>Now playing: 'Let Me Love You' by 'DJ Snake fe...</td>\n",
       "      <td>2016-09-21 17:19:29</td>\n",
       "      <td>Zofingen, Switzerland</td>\n",
       "      <td>1.0</td>\n",
       "    </tr>\n",
       "    <tr>\n",
       "      <th>3359997</th>\n",
       "      <td>UNKNOWN</td>\n",
       "      <td>Aargau</td>\n",
       "      <td>en</td>\n",
       "      <td>Now playing: 'Cold Water - HOT SONG' by 'Major...</td>\n",
       "      <td>2016-09-21 21:51:25</td>\n",
       "      <td>Zofingen, Switzerland</td>\n",
       "      <td>1.0</td>\n",
       "    </tr>\n",
       "    <tr>\n",
       "      <th>3392536</th>\n",
       "      <td>UNKNOWN</td>\n",
       "      <td>Aargau</td>\n",
       "      <td>en</td>\n",
       "      <td>Now playing: 'Cold Water - HOT SONG' by 'Major...</td>\n",
       "      <td>2016-09-22 17:22:07</td>\n",
       "      <td>Zofingen, Switzerland</td>\n",
       "      <td>1.0</td>\n",
       "    </tr>\n",
       "    <tr>\n",
       "      <th>3404615</th>\n",
       "      <td>UNKNOWN</td>\n",
       "      <td>Aargau</td>\n",
       "      <td>en</td>\n",
       "      <td>Now playing: 'Let Me Love You' by 'DJ Snake fe...</td>\n",
       "      <td>2016-09-22 11:27:19</td>\n",
       "      <td>Zofingen, Switzerland</td>\n",
       "      <td>1.0</td>\n",
       "    </tr>\n",
       "    <tr>\n",
       "      <th>3408384</th>\n",
       "      <td>UNKNOWN</td>\n",
       "      <td>Aargau</td>\n",
       "      <td>en</td>\n",
       "      <td>Now playing: 'Where Are Ãœ Now' by 'Skrillex &amp;...</td>\n",
       "      <td>2016-09-22 02:27:43</td>\n",
       "      <td>Zofingen, Switzerland</td>\n",
       "      <td>1.0</td>\n",
       "    </tr>\n",
       "    <tr>\n",
       "      <th>3410744</th>\n",
       "      <td>UNKNOWN</td>\n",
       "      <td>Aargau</td>\n",
       "      <td>en</td>\n",
       "      <td>Now playing: 'Let Me Love You' by 'DJ Snake fe...</td>\n",
       "      <td>2016-09-22 21:03:47</td>\n",
       "      <td>Zofingen, Switzerland</td>\n",
       "      <td>1.0</td>\n",
       "    </tr>\n",
       "    <tr>\n",
       "      <th>3429554</th>\n",
       "      <td>UNKNOWN</td>\n",
       "      <td>Aargau</td>\n",
       "      <td>en</td>\n",
       "      <td>Now playing: 'Let Me Love You' by 'DJ Snake fe...</td>\n",
       "      <td>2016-09-23 14:07:08</td>\n",
       "      <td>Zofingen, Switzerland</td>\n",
       "      <td>1.0</td>\n",
       "    </tr>\n",
       "    <tr>\n",
       "      <th>3450810</th>\n",
       "      <td>UNKNOWN</td>\n",
       "      <td>Aargau</td>\n",
       "      <td>en</td>\n",
       "      <td>Now playing: 'Cold Water - HOT SONG' by 'Major...</td>\n",
       "      <td>2016-09-23 06:06:15</td>\n",
       "      <td>Zofingen, Switzerland</td>\n",
       "      <td>1.0</td>\n",
       "    </tr>\n",
       "    <tr>\n",
       "      <th>3462200</th>\n",
       "      <td>UNKNOWN</td>\n",
       "      <td>Aargau</td>\n",
       "      <td>en</td>\n",
       "      <td>Now playing: 'Cold Water - HOT SONG' by 'Major...</td>\n",
       "      <td>2016-09-24 14:19:43</td>\n",
       "      <td>Zofingen, Switzerland</td>\n",
       "      <td>1.0</td>\n",
       "    </tr>\n",
       "    <tr>\n",
       "      <th>3470007</th>\n",
       "      <td>UNKNOWN</td>\n",
       "      <td>Aargau</td>\n",
       "      <td>en</td>\n",
       "      <td>Now playing: 'Cold Water - HOT SONG' by 'Major...</td>\n",
       "      <td>2016-09-24 00:31:18</td>\n",
       "      <td>Zofingen, Switzerland</td>\n",
       "      <td>1.0</td>\n",
       "    </tr>\n",
       "    <tr>\n",
       "      <th>3472178</th>\n",
       "      <td>UNKNOWN</td>\n",
       "      <td>Aargau</td>\n",
       "      <td>en</td>\n",
       "      <td>Now playing: 'Sorry' by 'Justin Bieber'</td>\n",
       "      <td>2016-09-24 09:27:03</td>\n",
       "      <td>Zofingen, Switzerland</td>\n",
       "      <td>-1.0</td>\n",
       "    </tr>\n",
       "    <tr>\n",
       "      <th>3473027</th>\n",
       "      <td>UNKNOWN</td>\n",
       "      <td>Aargau</td>\n",
       "      <td>en</td>\n",
       "      <td>Shawn, sorry jus @xCxlynx 24. Shawn mendes ode...</td>\n",
       "      <td>2016-09-24 10:58:06</td>\n",
       "      <td>swiss</td>\n",
       "      <td>-1.0</td>\n",
       "    </tr>\n",
       "    <tr>\n",
       "      <th>3493443</th>\n",
       "      <td>UNKNOWN</td>\n",
       "      <td>Aargau</td>\n",
       "      <td>en</td>\n",
       "      <td>Now playing: 'Let Me Love You' by 'DJ Snake fe...</td>\n",
       "      <td>2016-09-25 07:52:01</td>\n",
       "      <td>Zofingen, Switzerland</td>\n",
       "      <td>1.0</td>\n",
       "    </tr>\n",
       "    <tr>\n",
       "      <th>3494522</th>\n",
       "      <td>UNKNOWN</td>\n",
       "      <td>Aargau</td>\n",
       "      <td>en</td>\n",
       "      <td>Now playing: 'Cold Water - HOT SONG' by 'Major...</td>\n",
       "      <td>2016-09-25 09:42:47</td>\n",
       "      <td>Zofingen, Switzerland</td>\n",
       "      <td>1.0</td>\n",
       "    </tr>\n",
       "    <tr>\n",
       "      <th>3528627</th>\n",
       "      <td>UNKNOWN</td>\n",
       "      <td>Aargau</td>\n",
       "      <td>en</td>\n",
       "      <td>Now playing: 'Let Me Love You' by 'DJ Snake fe...</td>\n",
       "      <td>2016-09-26 22:52:41</td>\n",
       "      <td>Zofingen, Switzerland</td>\n",
       "      <td>1.0</td>\n",
       "    </tr>\n",
       "    <tr>\n",
       "      <th>3542780</th>\n",
       "      <td>UNKNOWN</td>\n",
       "      <td>Aargau</td>\n",
       "      <td>en</td>\n",
       "      <td>Now playing: 'Cold Water - HOT SONG' by 'Major...</td>\n",
       "      <td>2016-09-26 05:07:50</td>\n",
       "      <td>Zofingen, Switzerland</td>\n",
       "      <td>1.0</td>\n",
       "    </tr>\n",
       "    <tr>\n",
       "      <th>3544090</th>\n",
       "      <td>UNKNOWN</td>\n",
       "      <td>Aargau</td>\n",
       "      <td>en</td>\n",
       "      <td>Now playing: 'Let Me Love You' by 'DJ Snake fe...</td>\n",
       "      <td>2016-09-26 09:39:20</td>\n",
       "      <td>Zofingen, Switzerland</td>\n",
       "      <td>1.0</td>\n",
       "    </tr>\n",
       "    <tr>\n",
       "      <th>3547593</th>\n",
       "      <td>UNKNOWN</td>\n",
       "      <td>Aargau</td>\n",
       "      <td>en</td>\n",
       "      <td>Now playing: 'Cold Water - HOT SONG' by 'Major...</td>\n",
       "      <td>2016-09-26 19:29:21</td>\n",
       "      <td>Zofingen, Switzerland</td>\n",
       "      <td>1.0</td>\n",
       "    </tr>\n",
       "    <tr>\n",
       "      <th>3568716</th>\n",
       "      <td>UNKNOWN</td>\n",
       "      <td>Aargau</td>\n",
       "      <td>en</td>\n",
       "      <td>Now playing: 'Love Yourself' by 'Justin Bieber'</td>\n",
       "      <td>2016-09-27 05:19:58</td>\n",
       "      <td>Zofingen, Switzerland</td>\n",
       "      <td>1.0</td>\n",
       "    </tr>\n",
       "    <tr>\n",
       "      <th>3585580</th>\n",
       "      <td>UNKNOWN</td>\n",
       "      <td>Aargau</td>\n",
       "      <td>en</td>\n",
       "      <td>Now playing: 'Let Me Love You' by 'DJ Snake fe...</td>\n",
       "      <td>2016-09-27 11:33:57</td>\n",
       "      <td>Zofingen, Switzerland</td>\n",
       "      <td>1.0</td>\n",
       "    </tr>\n",
       "    <tr>\n",
       "      <th>3590712</th>\n",
       "      <td>UNKNOWN</td>\n",
       "      <td>Aargau</td>\n",
       "      <td>en</td>\n",
       "      <td>Now playing: 'Cold Water - HOT SONG' by 'Major...</td>\n",
       "      <td>2016-09-27 10:46:49</td>\n",
       "      <td>Zofingen, Switzerland</td>\n",
       "      <td>1.0</td>\n",
       "    </tr>\n",
       "    <tr>\n",
       "      <th>3608073</th>\n",
       "      <td>UNKNOWN</td>\n",
       "      <td>Aargau</td>\n",
       "      <td>en</td>\n",
       "      <td>Now playing: 'Cold Water - HOT SONG' by 'Major...</td>\n",
       "      <td>2016-09-28 02:32:07</td>\n",
       "      <td>Zofingen, Switzerland</td>\n",
       "      <td>1.0</td>\n",
       "    </tr>\n",
       "    <tr>\n",
       "      <th>3624913</th>\n",
       "      <td>UNKNOWN</td>\n",
       "      <td>Aargau</td>\n",
       "      <td>en</td>\n",
       "      <td>Now playing: 'Let Me Love You' by 'DJ Snake fe...</td>\n",
       "      <td>2016-09-28 03:00:57</td>\n",
       "      <td>Zofingen, Switzerland</td>\n",
       "      <td>1.0</td>\n",
       "    </tr>\n",
       "    <tr>\n",
       "      <th>3628017</th>\n",
       "      <td>UNKNOWN</td>\n",
       "      <td>Aargau</td>\n",
       "      <td>en</td>\n",
       "      <td>Now playing: 'Let Me Love You' by 'DJ Snake fe...</td>\n",
       "      <td>2016-09-28 15:13:55</td>\n",
       "      <td>Zofingen, Switzerland</td>\n",
       "      <td>1.0</td>\n",
       "    </tr>\n",
       "    <tr>\n",
       "      <th>3648897</th>\n",
       "      <td>UNKNOWN</td>\n",
       "      <td>Aargau</td>\n",
       "      <td>en</td>\n",
       "      <td>Now playing: 'Let Me Love You' by 'DJ Snake fe...</td>\n",
       "      <td>2016-09-29 12:40:13</td>\n",
       "      <td>Zofingen, Switzerland</td>\n",
       "      <td>1.0</td>\n",
       "    </tr>\n",
       "    <tr>\n",
       "      <th>3650125</th>\n",
       "      <td>UNKNOWN</td>\n",
       "      <td>Aargau</td>\n",
       "      <td>en</td>\n",
       "      <td>Now playing: 'Cold Water - HOT SONG' by 'Major...</td>\n",
       "      <td>2016-09-29 21:31:00</td>\n",
       "      <td>Zofingen, Switzerland</td>\n",
       "      <td>1.0</td>\n",
       "    </tr>\n",
       "    <tr>\n",
       "      <th>3667936</th>\n",
       "      <td>UNKNOWN</td>\n",
       "      <td>Aargau</td>\n",
       "      <td>en</td>\n",
       "      <td>Now playing: 'Cold Water - HOT SONG' by 'Major...</td>\n",
       "      <td>2016-09-29 04:42:19</td>\n",
       "      <td>Zofingen, Switzerland</td>\n",
       "      <td>1.0</td>\n",
       "    </tr>\n",
       "    <tr>\n",
       "      <th>3690914</th>\n",
       "      <td>UNKNOWN</td>\n",
       "      <td>Aargau</td>\n",
       "      <td>en</td>\n",
       "      <td>Now playing: 'Cold Water - HOT SONG' by 'Major...</td>\n",
       "      <td>2016-09-30 23:30:30</td>\n",
       "      <td>Zofingen, Switzerland</td>\n",
       "      <td>1.0</td>\n",
       "    </tr>\n",
       "    <tr>\n",
       "      <th>3691560</th>\n",
       "      <td>UNKNOWN</td>\n",
       "      <td>Aargau</td>\n",
       "      <td>en</td>\n",
       "      <td>Now playing: 'Cold Water - HOT SONG' by 'Major...</td>\n",
       "      <td>2016-09-30 09:46:27</td>\n",
       "      <td>Zofingen, Switzerland</td>\n",
       "      <td>1.0</td>\n",
       "    </tr>\n",
       "    <tr>\n",
       "      <th>3704877</th>\n",
       "      <td>UNKNOWN</td>\n",
       "      <td>Aargau</td>\n",
       "      <td>en</td>\n",
       "      <td>Now playing: 'Let Me Love You' by 'DJ Snake fe...</td>\n",
       "      <td>2016-09-30 04:46:29</td>\n",
       "      <td>Zofingen, Switzerland</td>\n",
       "      <td>1.0</td>\n",
       "    </tr>\n",
       "  </tbody>\n",
       "</table>\n",
       "<p>188 rows × 7 columns</p>\n",
       "</div>"
      ],
      "text/plain": [
       "        author_gender geo_state lang  \\\n",
       "28136         UNKNOWN    Aargau   en   \n",
       "109722        UNKNOWN    Aargau   en   \n",
       "135322        UNKNOWN    Aargau   en   \n",
       "221277        UNKNOWN    Aargau   en   \n",
       "296924           MALE    Aargau   en   \n",
       "299840           MALE    Aargau   en   \n",
       "315967        UNKNOWN    Aargau   en   \n",
       "368439        UNKNOWN    Aargau   en   \n",
       "402999        UNKNOWN    Aargau   en   \n",
       "424609        UNKNOWN    Aargau   en   \n",
       "454872        UNKNOWN    Aargau   en   \n",
       "462231        UNKNOWN    Aargau   en   \n",
       "474876        UNKNOWN    Aargau   en   \n",
       "504832        UNKNOWN    Aargau   en   \n",
       "512412        UNKNOWN    Aargau   en   \n",
       "513806        UNKNOWN    Aargau   en   \n",
       "544047        UNKNOWN    Aargau   en   \n",
       "549691        UNKNOWN    Aargau   en   \n",
       "614938        UNKNOWN    Aargau   en   \n",
       "621666        UNKNOWN    Aargau   en   \n",
       "633501        UNKNOWN    Aargau   en   \n",
       "645948        UNKNOWN    Aargau   en   \n",
       "650946        UNKNOWN    Aargau   en   \n",
       "679616        UNKNOWN    Aargau   en   \n",
       "682141        UNKNOWN    Aargau   en   \n",
       "730574        UNKNOWN    Aargau   en   \n",
       "733545        UNKNOWN    Aargau   en   \n",
       "735260        UNKNOWN    Aargau   en   \n",
       "741986        UNKNOWN    Aargau   en   \n",
       "758392        UNKNOWN    Aargau   en   \n",
       "...               ...       ...  ...   \n",
       "3352617       UNKNOWN    Aargau   en   \n",
       "3359997       UNKNOWN    Aargau   en   \n",
       "3392536       UNKNOWN    Aargau   en   \n",
       "3404615       UNKNOWN    Aargau   en   \n",
       "3408384       UNKNOWN    Aargau   en   \n",
       "3410744       UNKNOWN    Aargau   en   \n",
       "3429554       UNKNOWN    Aargau   en   \n",
       "3450810       UNKNOWN    Aargau   en   \n",
       "3462200       UNKNOWN    Aargau   en   \n",
       "3470007       UNKNOWN    Aargau   en   \n",
       "3472178       UNKNOWN    Aargau   en   \n",
       "3473027       UNKNOWN    Aargau   en   \n",
       "3493443       UNKNOWN    Aargau   en   \n",
       "3494522       UNKNOWN    Aargau   en   \n",
       "3528627       UNKNOWN    Aargau   en   \n",
       "3542780       UNKNOWN    Aargau   en   \n",
       "3544090       UNKNOWN    Aargau   en   \n",
       "3547593       UNKNOWN    Aargau   en   \n",
       "3568716       UNKNOWN    Aargau   en   \n",
       "3585580       UNKNOWN    Aargau   en   \n",
       "3590712       UNKNOWN    Aargau   en   \n",
       "3608073       UNKNOWN    Aargau   en   \n",
       "3624913       UNKNOWN    Aargau   en   \n",
       "3628017       UNKNOWN    Aargau   en   \n",
       "3648897       UNKNOWN    Aargau   en   \n",
       "3650125       UNKNOWN    Aargau   en   \n",
       "3667936       UNKNOWN    Aargau   en   \n",
       "3690914       UNKNOWN    Aargau   en   \n",
       "3691560       UNKNOWN    Aargau   en   \n",
       "3704877       UNKNOWN    Aargau   en   \n",
       "\n",
       "                                                      main  \\\n",
       "28136    THIS IS CUTW ASFhttps://twitter.com/987ampradi...   \n",
       "109722     Now playing: 'Love Yourself' by 'Justin Bieber'   \n",
       "135322             Now playing: 'Sorry' by 'Justin Bieber'   \n",
       "221277   Now playing: 'Where Are Ãœ Now' by 'Skrillex &...   \n",
       "296924    @AllyBrooke @justinbieber DAMN GIRL THESE VOCALS   \n",
       "299840   @AllyBrooke @ashleejuno @djsnake @justinbieber...   \n",
       "315967   Cold water // @MAJORLAZER @justinbieber @MOMOM...   \n",
       "368439   Now playing: 'Where Are Ãœ Now' by 'Skrillex &...   \n",
       "402999   Damonhttps://twitter.com/myboycrush/status/735...   \n",
       "424609   Now playing: 'Cold Water - HOT SONG' by 'Major...   \n",
       "454872             Now playing: 'Sorry' by 'Justin Bieber'   \n",
       "462231   Now playing: 'Cold Water - HOT SONG' by 'Major...   \n",
       "474876   Now playing: 'Cold Water - HOT SONG' by 'Major...   \n",
       "504832   @justinbieber I love you my angel, I will alwa...   \n",
       "512412   Now playing: 'Cold Water - HOT SONG' by 'Major...   \n",
       "513806   Now playing: 'Cold Water - HOT SONG' by 'Major...   \n",
       "544047   Now playing: 'Cold Water - HOT SONG' by 'Major...   \n",
       "549691   Now playing: 'Cold Water - HOT SONG' by 'Major...   \n",
       "614938   Now playing: 'Let Me Love You' by 'DJ Snake fe...   \n",
       "621666   Now playing: 'Let Me Love You' by 'DJ Snake fe...   \n",
       "633501   Now playing: 'Cold Water - HOT SONG' by 'Major...   \n",
       "645948   Now playing: 'Cold Water - HOT SONG' by 'Major...   \n",
       "650946   Now playing: 'Cold Water - HOT SONG' by 'Major...   \n",
       "679616   Now playing: 'Let Me Love You' by 'DJ Snake fe...   \n",
       "682141   Now playing: 'Let Me Love You' by 'DJ Snake fe...   \n",
       "730574   Now playing: 'Cold Water - HOT SONG' by 'Major...   \n",
       "733545   Now playing: 'Let Me Love You' by 'DJ Snake fe...   \n",
       "735260   Now playing: 'Let Me Love You' by 'DJ Snake fe...   \n",
       "741986   Now playing: 'Cold Water - HOT SONG' by 'Major...   \n",
       "758392   Now playing: 'Cold Water - HOT SONG' by 'Major...   \n",
       "...                                                    ...   \n",
       "3352617  Now playing: 'Let Me Love You' by 'DJ Snake fe...   \n",
       "3359997  Now playing: 'Cold Water - HOT SONG' by 'Major...   \n",
       "3392536  Now playing: 'Cold Water - HOT SONG' by 'Major...   \n",
       "3404615  Now playing: 'Let Me Love You' by 'DJ Snake fe...   \n",
       "3408384  Now playing: 'Where Are Ãœ Now' by 'Skrillex &...   \n",
       "3410744  Now playing: 'Let Me Love You' by 'DJ Snake fe...   \n",
       "3429554  Now playing: 'Let Me Love You' by 'DJ Snake fe...   \n",
       "3450810  Now playing: 'Cold Water - HOT SONG' by 'Major...   \n",
       "3462200  Now playing: 'Cold Water - HOT SONG' by 'Major...   \n",
       "3470007  Now playing: 'Cold Water - HOT SONG' by 'Major...   \n",
       "3472178            Now playing: 'Sorry' by 'Justin Bieber'   \n",
       "3473027  Shawn, sorry jus @xCxlynx 24. Shawn mendes ode...   \n",
       "3493443  Now playing: 'Let Me Love You' by 'DJ Snake fe...   \n",
       "3494522  Now playing: 'Cold Water - HOT SONG' by 'Major...   \n",
       "3528627  Now playing: 'Let Me Love You' by 'DJ Snake fe...   \n",
       "3542780  Now playing: 'Cold Water - HOT SONG' by 'Major...   \n",
       "3544090  Now playing: 'Let Me Love You' by 'DJ Snake fe...   \n",
       "3547593  Now playing: 'Cold Water - HOT SONG' by 'Major...   \n",
       "3568716    Now playing: 'Love Yourself' by 'Justin Bieber'   \n",
       "3585580  Now playing: 'Let Me Love You' by 'DJ Snake fe...   \n",
       "3590712  Now playing: 'Cold Water - HOT SONG' by 'Major...   \n",
       "3608073  Now playing: 'Cold Water - HOT SONG' by 'Major...   \n",
       "3624913  Now playing: 'Let Me Love You' by 'DJ Snake fe...   \n",
       "3628017  Now playing: 'Let Me Love You' by 'DJ Snake fe...   \n",
       "3648897  Now playing: 'Let Me Love You' by 'DJ Snake fe...   \n",
       "3650125  Now playing: 'Cold Water - HOT SONG' by 'Major...   \n",
       "3667936  Now playing: 'Cold Water - HOT SONG' by 'Major...   \n",
       "3690914  Now playing: 'Cold Water - HOT SONG' by 'Major...   \n",
       "3691560  Now playing: 'Cold Water - HOT SONG' by 'Major...   \n",
       "3704877  Now playing: 'Let Me Love You' by 'DJ Snake fe...   \n",
       "\n",
       "                  published                 source_location  sentiment  \n",
       "28136   2016-08-02 17:09:27  5h, ddl, ag, tk, NYD, 1D, t100        1.0  \n",
       "109722  2016-08-06 07:37:55           Zofingen, Switzerland        1.0  \n",
       "135322  2016-08-07 21:56:29           Zofingen, Switzerland       -1.0  \n",
       "221277  2016-08-09 01:36:45           Zofingen, Switzerland        1.0  \n",
       "296924  2016-08-11 23:01:36                   4/6 ; AG ; SG       -1.0  \n",
       "299840  2016-08-11 23:03:02                   4/6 ; AG ; SG       -1.0  \n",
       "315967  2016-08-12 04:33:02                  somewhere cold       -1.0  \n",
       "368439  2016-08-13 19:05:20           Zofingen, Switzerland        1.0  \n",
       "402999  2016-08-14 12:41:05                  somewhere cold        1.0  \n",
       "424609  2016-08-15 10:26:26           Zofingen, Switzerland        1.0  \n",
       "454872  2016-08-16 02:39:11           Zofingen, Switzerland       -1.0  \n",
       "462231  2016-08-16 00:02:50           Zofingen, Switzerland        1.0  \n",
       "474876  2016-08-16 17:42:34           Zofingen, Switzerland        1.0  \n",
       "504832  2016-08-17 02:46:26  JB, AG, SPN, SQ, TWD,James B ღ        1.0  \n",
       "512412  2016-08-17 20:46:39           Zofingen, Switzerland        1.0  \n",
       "513806  2016-08-17 07:47:54           Zofingen, Switzerland        1.0  \n",
       "544047  2016-08-18 10:44:22           Zofingen, Switzerland        1.0  \n",
       "549691  2016-08-18 22:52:46           Zofingen, Switzerland        1.0  \n",
       "614938  2016-08-20 19:03:46           Zofingen, Switzerland        1.0  \n",
       "621666  2016-08-20 02:02:04           Zofingen, Switzerland        1.0  \n",
       "633501  2016-08-20 08:19:44           Zofingen, Switzerland        1.0  \n",
       "645948  2016-08-21 05:00:18           Zofingen, Switzerland        1.0  \n",
       "650946  2016-08-21 23:31:03           Zofingen, Switzerland        1.0  \n",
       "679616  2016-08-22 14:07:11           Zofingen, Switzerland        1.0  \n",
       "682141  2016-08-22 02:01:57           Zofingen, Switzerland        1.0  \n",
       "730574  2016-08-23 21:33:55           Zofingen, Switzerland        1.0  \n",
       "733545  2016-08-23 05:06:44           Zofingen, Switzerland        1.0  \n",
       "735260  2016-08-23 17:06:59           Zofingen, Switzerland        1.0  \n",
       "741986  2016-08-23 07:48:19           Zofingen, Switzerland        1.0  \n",
       "758392  2016-08-24 23:54:12           Zofingen, Switzerland        1.0  \n",
       "...                     ...                             ...        ...  \n",
       "3352617 2016-09-21 17:19:29           Zofingen, Switzerland        1.0  \n",
       "3359997 2016-09-21 21:51:25           Zofingen, Switzerland        1.0  \n",
       "3392536 2016-09-22 17:22:07           Zofingen, Switzerland        1.0  \n",
       "3404615 2016-09-22 11:27:19           Zofingen, Switzerland        1.0  \n",
       "3408384 2016-09-22 02:27:43           Zofingen, Switzerland        1.0  \n",
       "3410744 2016-09-22 21:03:47           Zofingen, Switzerland        1.0  \n",
       "3429554 2016-09-23 14:07:08           Zofingen, Switzerland        1.0  \n",
       "3450810 2016-09-23 06:06:15           Zofingen, Switzerland        1.0  \n",
       "3462200 2016-09-24 14:19:43           Zofingen, Switzerland        1.0  \n",
       "3470007 2016-09-24 00:31:18           Zofingen, Switzerland        1.0  \n",
       "3472178 2016-09-24 09:27:03           Zofingen, Switzerland       -1.0  \n",
       "3473027 2016-09-24 10:58:06                           swiss       -1.0  \n",
       "3493443 2016-09-25 07:52:01           Zofingen, Switzerland        1.0  \n",
       "3494522 2016-09-25 09:42:47           Zofingen, Switzerland        1.0  \n",
       "3528627 2016-09-26 22:52:41           Zofingen, Switzerland        1.0  \n",
       "3542780 2016-09-26 05:07:50           Zofingen, Switzerland        1.0  \n",
       "3544090 2016-09-26 09:39:20           Zofingen, Switzerland        1.0  \n",
       "3547593 2016-09-26 19:29:21           Zofingen, Switzerland        1.0  \n",
       "3568716 2016-09-27 05:19:58           Zofingen, Switzerland        1.0  \n",
       "3585580 2016-09-27 11:33:57           Zofingen, Switzerland        1.0  \n",
       "3590712 2016-09-27 10:46:49           Zofingen, Switzerland        1.0  \n",
       "3608073 2016-09-28 02:32:07           Zofingen, Switzerland        1.0  \n",
       "3624913 2016-09-28 03:00:57           Zofingen, Switzerland        1.0  \n",
       "3628017 2016-09-28 15:13:55           Zofingen, Switzerland        1.0  \n",
       "3648897 2016-09-29 12:40:13           Zofingen, Switzerland        1.0  \n",
       "3650125 2016-09-29 21:31:00           Zofingen, Switzerland        1.0  \n",
       "3667936 2016-09-29 04:42:19           Zofingen, Switzerland        1.0  \n",
       "3690914 2016-09-30 23:30:30           Zofingen, Switzerland        1.0  \n",
       "3691560 2016-09-30 09:46:27           Zofingen, Switzerland        1.0  \n",
       "3704877 2016-09-30 04:46:29           Zofingen, Switzerland        1.0  \n",
       "\n",
       "[188 rows x 7 columns]"
      ]
     },
     "execution_count": 19,
     "metadata": {},
     "output_type": "execute_result"
    }
   ],
   "source": [
    "bieber_search[bieber_search[\"geo_state\"] == \"Aargau\"]"
   ]
  },
  {
   "cell_type": "markdown",
   "metadata": {},
   "source": [
    "## Example 6: Roesti mentions, by state"
   ]
  },
  {
   "cell_type": "code",
   "execution_count": 20,
   "metadata": {
    "collapsed": false
   },
   "outputs": [
    {
     "data": {
      "text/plain": [
       "<matplotlib.axes._subplots.AxesSubplot at 0x1e3e483a8d0>"
      ]
     },
     "execution_count": 20,
     "metadata": {},
     "output_type": "execute_result"
    },
    {
     "data": {
      "image/png": "[encoded data removed]",
      "text/plain": [
       "<matplotlib.figure.Figure at 0x1e3e48420f0>"
      ]
     },
     "metadata": {},
     "output_type": "display_data"
    }
   ],
   "source": [
    "# Ratio of roesti tweets\n",
    "roesti_search = search_df(main_df, [\"rösti\", \"roesti\", \"röschti\", \"roeschti\"], search_exclusive=False)\n",
    "roesti_tweets = roesti_search.groupby(\"geo_state\")[\"main\"].count()\n",
    "\n",
    "total_tweets = main_df.groupby(\"geo_state\")[\"main\"].count()\n",
    "(roesti_tweets / total_tweets).dropna().sort_values().plot(kind=\"bar\")"
   ]
  },
  {
   "cell_type": "markdown",
   "metadata": {},
   "source": [
    "## Example 7: McDonalds, by state"
   ]
  },
  {
   "cell_type": "code",
   "execution_count": 21,
   "metadata": {
    "collapsed": false
   },
   "outputs": [
    {
     "data": {
      "text/plain": [
       "<matplotlib.axes._subplots.AxesSubplot at 0x1e3b78d6ac8>"
      ]
     },
     "execution_count": 21,
     "metadata": {},
     "output_type": "execute_result"
    },
    {
     "data": {
      "image/png": "[encoded data removed]",
      "text/plain": [
       "<matplotlib.figure.Figure at 0x1e3b78f1fd0>"
      ]
     },
     "metadata": {},
     "output_type": "display_data"
    }
   ],
   "source": [
    "mcdo_search = search_df(main_df_opinion, [\"mcdo\"], search_exclusive=True)\n",
    "mcdo_search = keep_relevant_states(mcdo_search)\n",
    "mcdo_search.groupby(\"geo_state\").mean().sort_values(\"sentiment\").plot(kind=\"bar\")"
   ]
  },
  {
   "cell_type": "markdown",
   "metadata": {},
   "source": [
    "## Example 8: Are people happier on the week-end?"
   ]
  },
  {
   "cell_type": "code",
   "execution_count": 22,
   "metadata": {
    "collapsed": false
   },
   "outputs": [
    {
     "name": "stderr",
     "output_type": "stream",
     "text": [
      "C:\\Users\\bls73\\Anaconda3\\lib\\site-packages\\ipykernel\\__main__.py:1: SettingWithCopyWarning: \n",
      "A value is trying to be set on a copy of a slice from a DataFrame.\n",
      "Try using .loc[row_indexer,col_indexer] = value instead\n",
      "\n",
      "See the caveats in the documentation: http://pandas.pydata.org/pandas-docs/stable/indexing.html#indexing-view-versus-copy\n",
      "  if __name__ == '__main__':\n"
     ]
    }
   ],
   "source": [
    "main_df_opinion[\"weekday\"] = main_df_opinion[\"published\"].apply(lambda x: x.weekday())"
   ]
  },
  {
   "cell_type": "code",
   "execution_count": 23,
   "metadata": {
    "collapsed": false
   },
   "outputs": [
    {
     "data": {
      "text/html": [
       "<div>\n",
       "<table border=\"1\" class=\"dataframe\">\n",
       "  <thead>\n",
       "    <tr style=\"text-align: right;\">\n",
       "      <th></th>\n",
       "      <th>sentiment</th>\n",
       "    </tr>\n",
       "    <tr>\n",
       "      <th>weekday</th>\n",
       "      <th></th>\n",
       "    </tr>\n",
       "  </thead>\n",
       "  <tbody>\n",
       "    <tr>\n",
       "      <th>0</th>\n",
       "      <td>0.406316</td>\n",
       "    </tr>\n",
       "    <tr>\n",
       "      <th>1</th>\n",
       "      <td>0.409613</td>\n",
       "    </tr>\n",
       "    <tr>\n",
       "      <th>2</th>\n",
       "      <td>0.410054</td>\n",
       "    </tr>\n",
       "    <tr>\n",
       "      <th>3</th>\n",
       "      <td>0.407843</td>\n",
       "    </tr>\n",
       "    <tr>\n",
       "      <th>4</th>\n",
       "      <td>0.420369</td>\n",
       "    </tr>\n",
       "    <tr>\n",
       "      <th>5</th>\n",
       "      <td>0.408759</td>\n",
       "    </tr>\n",
       "    <tr>\n",
       "      <th>6</th>\n",
       "      <td>0.406033</td>\n",
       "    </tr>\n",
       "  </tbody>\n",
       "</table>\n",
       "</div>"
      ],
      "text/plain": [
       "         sentiment\n",
       "weekday           \n",
       "0         0.406316\n",
       "1         0.409613\n",
       "2         0.410054\n",
       "3         0.407843\n",
       "4         0.420369\n",
       "5         0.408759\n",
       "6         0.406033"
      ]
     },
     "execution_count": 23,
     "metadata": {},
     "output_type": "execute_result"
    }
   ],
   "source": [
    "main_df_opinion[main_df_opinion[\"geo_state\"] == \"Zurich\"].groupby(\"weekday\").mean()"
   ]
  },
  {
   "cell_type": "markdown",
   "metadata": {},
   "source": [
    "Other ideas:\n",
    "* implication of canton into subject (count(subject) / count(total))"
   ]
  },
  {
   "cell_type": "code",
   "execution_count": 32,
   "metadata": {
    "collapsed": false
   },
   "outputs": [
    {
     "data": {
      "text/html": [
       "<div>\n",
       "<table border=\"1\" class=\"dataframe\">\n",
       "  <thead>\n",
       "    <tr style=\"text-align: right;\">\n",
       "      <th></th>\n",
       "      <th>author_gender</th>\n",
       "      <th>geo_state</th>\n",
       "      <th>lang</th>\n",
       "      <th>main</th>\n",
       "      <th>published</th>\n",
       "      <th>source_location</th>\n",
       "      <th>sentiment</th>\n",
       "      <th>weekday</th>\n",
       "    </tr>\n",
       "  </thead>\n",
       "  <tbody>\n",
       "    <tr>\n",
       "      <th>3008719</th>\n",
       "      <td>UNKNOWN</td>\n",
       "      <td>Zurich</td>\n",
       "      <td>en</td>\n",
       "      <td>Paralympics day 4: McFadden begins gold rush, ...</td>\n",
       "      <td>2016-09-12 00:04:12</td>\n",
       "      <td>Zurich</td>\n",
       "      <td>1.0</td>\n",
       "      <td>0</td>\n",
       "    </tr>\n",
       "    <tr>\n",
       "      <th>933991</th>\n",
       "      <td>UNKNOWN</td>\n",
       "      <td>Zurich</td>\n",
       "      <td>en</td>\n",
       "      <td>New ​technology '​Eco-Bio ​Block' for clean #G...</td>\n",
       "      <td>2016-08-29 11:39:48</td>\n",
       "      <td>Zurich</td>\n",
       "      <td>1.0</td>\n",
       "      <td>0</td>\n",
       "    </tr>\n",
       "    <tr>\n",
       "      <th>2559857</th>\n",
       "      <td>FEMALE</td>\n",
       "      <td>Bern</td>\n",
       "      <td>en</td>\n",
       "      <td>literally hate November Arsenal always flop</td>\n",
       "      <td>2016-10-31 12:32:31</td>\n",
       "      <td>Switzerland</td>\n",
       "      <td>-1.0</td>\n",
       "      <td>0</td>\n",
       "    </tr>\n",
       "    <tr>\n",
       "      <th>722473</th>\n",
       "      <td>UNKNOWN</td>\n",
       "      <td>Zurich</td>\n",
       "      <td>en</td>\n",
       "      <td>@taallida ready roses are my favorites</td>\n",
       "      <td>2016-08-23 11:26:54</td>\n",
       "      <td>None</td>\n",
       "      <td>1.0</td>\n",
       "      <td>1</td>\n",
       "    </tr>\n",
       "    <tr>\n",
       "      <th>2221490</th>\n",
       "      <td>FEMALE</td>\n",
       "      <td>Nidwalden</td>\n",
       "      <td>en</td>\n",
       "      <td>@Sarahdipity I read the hashtag as \"I'm mobile...</td>\n",
       "      <td>2016-10-25 04:25:55</td>\n",
       "      <td>nw</td>\n",
       "      <td>1.0</td>\n",
       "      <td>1</td>\n",
       "    </tr>\n",
       "    <tr>\n",
       "      <th>2838051</th>\n",
       "      <td>FEMALE</td>\n",
       "      <td>Schaffhausen</td>\n",
       "      <td>de</td>\n",
       "      <td>.@Seiteneingang für “Gespräche“ wird es zu lau...</td>\n",
       "      <td>2016-09-07 14:49:24</td>\n",
       "      <td>Norddeutschland, Ostsee, SH</td>\n",
       "      <td>1.0</td>\n",
       "      <td>2</td>\n",
       "    </tr>\n",
       "    <tr>\n",
       "      <th>1008960</th>\n",
       "      <td>UNKNOWN</td>\n",
       "      <td>Bern</td>\n",
       "      <td>en</td>\n",
       "      <td>#NowPlaying The Veronicas - You Ruin Me - http...</td>\n",
       "      <td>2016-08-30 21:06:01</td>\n",
       "      <td>Bern, Switzerland</td>\n",
       "      <td>-1.0</td>\n",
       "      <td>1</td>\n",
       "    </tr>\n",
       "    <tr>\n",
       "      <th>153800</th>\n",
       "      <td>UNKNOWN</td>\n",
       "      <td>Zurich</td>\n",
       "      <td>en</td>\n",
       "      <td>♫ _Algol_ - Aware Of Universe's Inevitable Col...</td>\n",
       "      <td>2016-08-08 06:12:11</td>\n",
       "      <td>Zurich</td>\n",
       "      <td>1.0</td>\n",
       "      <td>0</td>\n",
       "    </tr>\n",
       "    <tr>\n",
       "      <th>3033119</th>\n",
       "      <td>UNKNOWN</td>\n",
       "      <td>Zug</td>\n",
       "      <td>en</td>\n",
       "      <td>The Better Story wins. @StevenLoepfe @Storylea...</td>\n",
       "      <td>2016-09-12 17:11:38</td>\n",
       "      <td>Zug, Switzerland</td>\n",
       "      <td>1.0</td>\n",
       "      <td>0</td>\n",
       "    </tr>\n",
       "    <tr>\n",
       "      <th>1044141</th>\n",
       "      <td>UNKNOWN</td>\n",
       "      <td>Zurich</td>\n",
       "      <td>en</td>\n",
       "      <td>Produce labeling is good and some seasonality ...</td>\n",
       "      <td>2016-08-31 19:51:13</td>\n",
       "      <td>Zürich, Switzerland</td>\n",
       "      <td>1.0</td>\n",
       "      <td>2</td>\n",
       "    </tr>\n",
       "  </tbody>\n",
       "</table>\n",
       "</div>"
      ],
      "text/plain": [
       "        author_gender     geo_state lang  \\\n",
       "3008719       UNKNOWN        Zurich   en   \n",
       "933991        UNKNOWN        Zurich   en   \n",
       "2559857        FEMALE          Bern   en   \n",
       "722473        UNKNOWN        Zurich   en   \n",
       "2221490        FEMALE     Nidwalden   en   \n",
       "2838051        FEMALE  Schaffhausen   de   \n",
       "1008960       UNKNOWN          Bern   en   \n",
       "153800        UNKNOWN        Zurich   en   \n",
       "3033119       UNKNOWN           Zug   en   \n",
       "1044141       UNKNOWN        Zurich   en   \n",
       "\n",
       "                                                      main  \\\n",
       "3008719  Paralympics day 4: McFadden begins gold rush, ...   \n",
       "933991   New ​technology '​Eco-Bio ​Block' for clean #G...   \n",
       "2559857        literally hate November Arsenal always flop   \n",
       "722473              @taallida ready roses are my favorites   \n",
       "2221490  @Sarahdipity I read the hashtag as \"I'm mobile...   \n",
       "2838051  .@Seiteneingang für “Gespräche“ wird es zu lau...   \n",
       "1008960  #NowPlaying The Veronicas - You Ruin Me - http...   \n",
       "153800   ♫ _Algol_ - Aware Of Universe's Inevitable Col...   \n",
       "3033119  The Better Story wins. @StevenLoepfe @Storylea...   \n",
       "1044141  Produce labeling is good and some seasonality ...   \n",
       "\n",
       "                  published              source_location  sentiment  weekday  \n",
       "3008719 2016-09-12 00:04:12                       Zurich        1.0        0  \n",
       "933991  2016-08-29 11:39:48                       Zurich        1.0        0  \n",
       "2559857 2016-10-31 12:32:31                  Switzerland       -1.0        0  \n",
       "722473  2016-08-23 11:26:54                         None        1.0        1  \n",
       "2221490 2016-10-25 04:25:55                           nw        1.0        1  \n",
       "2838051 2016-09-07 14:49:24  Norddeutschland, Ostsee, SH        1.0        2  \n",
       "1008960 2016-08-30 21:06:01            Bern, Switzerland       -1.0        1  \n",
       "153800  2016-08-08 06:12:11                       Zurich        1.0        0  \n",
       "3033119 2016-09-12 17:11:38             Zug, Switzerland        1.0        0  \n",
       "1044141 2016-08-31 19:51:13          Zürich, Switzerland        1.0        2  "
      ]
     },
     "execution_count": 32,
     "metadata": {},
     "output_type": "execute_result"
    }
   ],
   "source": [
    "days = [0, 1, 2]\n",
    "langs = ['en', 'fr']\n",
    "main_df_opinion[main_df_opinion['weekday'].isin(days)].sample(10)"
   ]
  },
  {
   "cell_type": "markdown",
   "metadata": {},
   "source": [
    "## Testing stuff for app"
   ]
  },
  {
   "cell_type": "code",
   "execution_count": 45,
   "metadata": {
    "collapsed": true
   },
   "outputs": [],
   "source": [
    "def filter_lang(df, langs):\n",
    "    \"\"\" filter the df with one or several languages \"\"\"\n",
    "    return df[df['lang'].isin(langs)]\n",
    "\n",
    "def filter_relevant_states(df, threshold):\n",
    "    \"\"\" keep states that have more than `threshold` tweets \"\"\"\n",
    "    return df.groupby(\"geo_state\").filter(lambda x: x.count()[\"main\"] > threshold)\n",
    "\n",
    "def append_weekday(df):\n",
    "    df[\"weekday\"] = df[\"published\"].apply(lambda x: x.weekday())\n",
    "\n",
    "def filter_weekday(df, days): #drop weekday after?\n",
    "    return df[df['weekday'].isin(days)]\n",
    "\n",
    "def filter_df(df, langs = ['en'], days = [0, 1, 2, 3, 4, 5, 6], threshold=0):\n",
    "    # Language filter\n",
    "    df = filter_lang(df, langs)\n",
    "    # Threshold filter if necessary\n",
    "    if threshold > 0:\n",
    "        df = filter_relevant_states(df, threshold)\n",
    "    # Weekday filter\n",
    "    append_weekday(df)\n",
    "    df = filter_weekday(df, days)\n",
    "    df.drop('weekday', 1)\n",
    "    return df"
   ]
  },
  {
   "cell_type": "code",
   "execution_count": 47,
   "metadata": {
    "collapsed": false
   },
   "outputs": [
    {
     "name": "stderr",
     "output_type": "stream",
     "text": [
      "C:\\Users\\bls73\\Anaconda3\\lib\\site-packages\\ipykernel\\__main__.py:10: SettingWithCopyWarning: \n",
      "A value is trying to be set on a copy of a slice from a DataFrame.\n",
      "Try using .loc[row_indexer,col_indexer] = value instead\n",
      "\n",
      "See the caveats in the documentation: http://pandas.pydata.org/pandas-docs/stable/indexing.html#indexing-view-versus-copy\n"
     ]
    },
    {
     "data": {
      "text/html": [
       "<div>\n",
       "<table border=\"1\" class=\"dataframe\">\n",
       "  <thead>\n",
       "    <tr style=\"text-align: right;\">\n",
       "      <th></th>\n",
       "      <th>author_gender</th>\n",
       "      <th>geo_state</th>\n",
       "      <th>lang</th>\n",
       "      <th>main</th>\n",
       "      <th>published</th>\n",
       "      <th>source_location</th>\n",
       "      <th>sentiment</th>\n",
       "      <th>weekday</th>\n",
       "    </tr>\n",
       "  </thead>\n",
       "  <tbody>\n",
       "    <tr>\n",
       "      <th>941870</th>\n",
       "      <td>UNKNOWN</td>\n",
       "      <td>Ticino</td>\n",
       "      <td>es</td>\n",
       "      <td>Denada :)https://twitter.com/Wincestiel2090/st...</td>\n",
       "      <td>2016-08-29 02:30:49</td>\n",
       "      <td>Lugano,Buenos Aires,Argentina</td>\n",
       "      <td>1.0</td>\n",
       "      <td>0</td>\n",
       "    </tr>\n",
       "  </tbody>\n",
       "</table>\n",
       "</div>"
      ],
      "text/plain": [
       "       author_gender geo_state lang  \\\n",
       "941870       UNKNOWN    Ticino   es   \n",
       "\n",
       "                                                     main           published  \\\n",
       "941870  Denada :)https://twitter.com/Wincestiel2090/st... 2016-08-29 02:30:49   \n",
       "\n",
       "                      source_location  sentiment  weekday  \n",
       "941870  Lugano,Buenos Aires,Argentina        1.0        0  "
      ]
     },
     "execution_count": 47,
     "metadata": {},
     "output_type": "execute_result"
    }
   ],
   "source": [
    "filter_df(main_df_opinion, ['es'], [0,1,2]).sample(1)"
   ]
  },
  {
   "cell_type": "code",
   "execution_count": 102,
   "metadata": {
    "collapsed": false
   },
   "outputs": [],
   "source": [
    "def get_happy_sad_tweet(df, happy):\n",
    "    if happy:\n",
    "        selected_state = main_df_opinion.groupby(\"geo_state\").mean().sort_values(by='sentiment', ascending=False).index[0]\n",
    "    else:\n",
    "        selected_state = main_df_opinion.groupby(\"geo_state\").mean().sort_values(by='sentiment', ascending=False).index[-1]\n",
    "    # getting indexes of tweets in the happiest/saddest state\n",
    "    indexes = main_df_opinion[main_df_opinion['geo_state'] == selected_state]['main'].index\n",
    "    # randomly selecting one of them\n",
    "    indexes_list = list(indexes)\n",
    "    random_index = int(random()*len(list(indexes)))\n",
    "    tweet_selected_index = indexes_list[random_index]\n",
    "    return main_df_opinion.loc[tweet_selected_index]['main']\n",
    "    "
   ]
  },
  {
   "cell_type": "code",
   "execution_count": 103,
   "metadata": {
    "collapsed": false
   },
   "outputs": [
    {
     "data": {
      "text/plain": [
       "'#SamAdams #RaiseTheStein Hoist at #Skins 1/2 time today! Winner gets $20 gift certificate! #happyhouralldaypic.twitter.com/bZaTnl6sUA'"
      ]
     },
     "execution_count": 103,
     "metadata": {},
     "output_type": "execute_result"
    }
   ],
   "source": [
    "get_happy_sad_tweet(main_df_opinion, False)"
   ]
  },
  {
   "cell_type": "code",
   "execution_count": 95,
   "metadata": {
    "collapsed": false
   },
   "outputs": [
    {
     "data": {
      "text/plain": [
       "'Meine neue Arbeitslounge :) @ rogerruckstuhl.ch https://www.instagram.com/p/BJm6-ekASzR/\\xa0'"
      ]
     },
     "execution_count": 95,
     "metadata": {},
     "output_type": "execute_result"
    }
   ],
   "source": [
    "from random import random\n",
    "happy_state = main_df_opinion.groupby(\"geo_state\").mean().sort_values(by='sentiment', ascending=False).index[0]\n",
    "sad_state = main_df_opinion.groupby(\"geo_state\").mean().sort_values(by='sentiment', ascending=False).index[-1]\n",
    "\n",
    "indexes = main_df_opinion[main_df_opinion['geo_state'] == happy_state]['main'].index\n",
    "indexes_list = list(indexes)\n",
    "random_index = int(random()*len(list(indexes)))\n",
    "tweet_selected_index = indexes_list[random_index]\n",
    "main_df_opinion.loc[tweet_selected_index]['main']"
   ]
  },
  {
   "cell_type": "code",
   "execution_count": null,
   "metadata": {
    "collapsed": true
   },
   "outputs": [],
   "source": []
  }
 ],
 "metadata": {
  "kernelspec": {
   "display_name": "Python [Root]",
   "language": "python",
   "name": "Python [Root]"
  },
  "language_info": {
   "codemirror_mode": {
    "name": "ipython",
    "version": 3
   },
   "file_extension": ".py",
   "mimetype": "text/x-python",
   "name": "python",
   "nbconvert_exporter": "python",
   "pygments_lexer": "ipython3",
   "version": "3.5.2"
  }
 },
 "nbformat": 4,
 "nbformat_minor": 1
}
